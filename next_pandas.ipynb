{
 "cells": [
  {
   "cell_type": "markdown",
   "id": "90ceeceb",
   "metadata": {},
   "source": [
    "Data Cleaning (Pembersihan Data) adalah proses mengidentifikasi dan memperbaiki atau menghapus data yang kotor, tidak akurat, tidak lengkap dalam dataset sebelum data tersebut digunakan untuk analisis lebih lanjut atau untuk melatih model machine learning. data yang kotor dapat menyebabkan analisis yang salah, model yang tidak akurat, dan pengambilan keputusan yang keliru.\n",
    "\n",
    "dalam proses ini , kita memastikan bahwa data:\n",
    "- konsisten (tidak ada nilai yang bertentangan)\n",
    "- akurat (nilai sesuai dengan realitas)\n",
    "- lengkap (tidak ada data yang hilang atau kosong)\n",
    "- relevan (hanya data yang diperlukan yang digunakan)\n",
    "\n",
    "Tahapan utama dalam data cleaning\n",
    "\n",
    "1. Mengatasi missing values\n",
    "- menghapus data yang kosong ( drop rows/columns)\n",
    "- mengisi nilai yang hilang (imputation) dengan mean median mode atau menggunakan algoritma tertentu.\n",
    "2. Menghapus data duplikat\n",
    "- mengidentifikasi dan menghapus data yang sama yang muncul lebih dari satu kali dalam dataset\n",
    "\n",
    "3. Menangani data yang tidak konsisten\n",
    "- menyelaraskan format data (misalnya tanggal, hurud kapital, dll)\n",
    "- mengatasi inkonsistensi dalam penulisan (misalnya \"USA\" dan \"Unites State\").\n",
    "\n",
    "4. Menangani Outlier\n",
    "- mengidentifikasi nilai ekstrem yang tidak normal dan memutuskan apakah harus dihapus atau disesuaikan.\n",
    "5. Memvalidasi data\n",
    "- memastikan bahwa semua data berada dalam rentang nilai yang masuk akal dan tidak melanggar atuean bisnis\n",
    "\n",
    "6. mengubah fotmat data \n",
    "- mengubah tipe data sesuai kebutuhan analisis atau model machine learning (misalnya konversi string menjadi angka).\n",
    "\n",
    "Data Cleaning sangan=t penting karena\n",
    "\n",
    "- menghindari kesalahan analisis\n",
    "- mengurangi waktu biaya\n",
    "- meningkatkan kredibilitas hasil analisis\n",
    "\n"
   ]
  },
  {
   "cell_type": "markdown",
   "id": "c8aefc98",
   "metadata": {},
   "source": [
    "1. Missing Value data kosong atau tidak tersedia dalam data set yang ditandai dengan NaN (not a number) atau null dalam dataset. "
   ]
  },
  {
   "cell_type": "code",
   "execution_count": null,
   "id": "8cdbe986",
   "metadata": {
    "vscode": {
     "languageId": "plaintext"
    }
   },
   "outputs": [],
   "source": [
    "import pandas as pandas\n",
    "\n",
    "df = pd,read_csv()"
   ]
  },
  {
   "cell_type": "markdown",
   "id": "972caae6",
   "metadata": {},
   "source": [
    "Identifikasi missing value \n",
    "\n",
    "langkah pertama melihat apakah ada data yang hilang "
   ]
  },
  {
   "cell_type": "markdown",
   "id": "462e2b1b",
   "metadata": {},
   "source": [
    "1.1 Menghitung missing value perkolom dan baris"
   ]
  }
 ],
 "metadata": {
  "language_info": {
   "name": "python"
  }
 },
 "nbformat": 4,
 "nbformat_minor": 5
}
