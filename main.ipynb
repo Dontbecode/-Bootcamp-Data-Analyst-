{
 "cells": [
  {
   "cell_type": "code",
   "execution_count": 2,
   "id": "7782ae12",
   "metadata": {},
   "outputs": [],
   "source": [
    "import numpy as np\n",
    "import random\n",
    "\n",
    "# buat data randaom dengan ukuran 10.000.000\n",
    "\n",
    "size = 10_000_000\n",
    "\n",
    "# Data Gaji Karyawan \n",
    "gaji_karyawan = [random.randint(5000000, 15000000) for _ in range (size)]\n",
    "\n",
    "\n",
    "# data array gaji \n",
    "array_gaji = np.array(gaji_karyawan)\n",
    "\n"
   ]
  },
  {
   "cell_type": "code",
   "execution_count": 81,
   "id": "8bcb3b3b",
   "metadata": {},
   "outputs": [
    {
     "name": "stdout",
     "output_type": "stream",
     "text": [
      "73.3 ms ± 263 μs per loop (mean ± std. dev. of 7 runs, 1 loop each)\n"
     ]
    }
   ],
   "source": [
    "%%timeit\n",
    "# Mencari rata rata gaji denagn python\n",
    "\n",
    "avg_gaji = sum(gaji_karyawan) / len(gaji_karyawan)"
   ]
  },
  {
   "cell_type": "code",
   "execution_count": 82,
   "id": "402fca5c",
   "metadata": {},
   "outputs": [
    {
     "name": "stdout",
     "output_type": "stream",
     "text": [
      "6.12 ms ± 56.2 μs per loop (mean ± std. dev. of 7 runs, 100 loops each)\n"
     ]
    }
   ],
   "source": [
    "%%timeit\n",
    "\n",
    "avg_gaji1 = np.mean(array_gaji)"
   ]
  },
  {
   "cell_type": "code",
   "execution_count": 19,
   "id": "27fa6fad",
   "metadata": {},
   "outputs": [
    {
     "name": "stdout",
     "output_type": "stream",
     "text": [
      "Array 1D: [1 2 3 4 5]\n",
      "Array 2D = \n",
      "[[1 2 3 4]\n",
      " [2 3 5 3]]\n",
      "Array 3D = \n",
      " [[[1 2 3 4]\n",
      "  [2 3 5 3]]\n",
      "\n",
      " [[3 2 4 5]\n",
      "  [3 2 5 2]]]\n"
     ]
    }
   ],
   "source": [
    "# Mmembuat array 1D dengan function np.array()\n",
    "\n",
    "list_1D = [1,2,3,4,5]\n",
    "array_1D = np.array(list_1D)\n",
    "print (f\"Array 1D: {array_1D}\")\n",
    "\n",
    "\n",
    "# array 2D \n",
    "\n",
    "list_2D = [[1,2,3,4], [2,3,5,3]]\n",
    "array_2D = np.array(list_2D)\n",
    "print(f\"Array 2D = \\n{array_2D}\")\n",
    "\n",
    "# array 3D \n",
    "\n",
    "list_3D = [[[1,2,3,4], [2,3,5,3]], [[3,2,4,5], [3,2,5,2]]]\n",
    "array_3D = np.array(list_3D)\n",
    "print(f\"Array 3D = \\n {array_3D}\")"
   ]
  },
  {
   "cell_type": "code",
   "execution_count": 21,
   "id": "81315c58",
   "metadata": {},
   "outputs": [
    {
     "name": "stdout",
     "output_type": "stream",
     "text": [
      "Array 1D: [1 2 3 4 5]\n"
     ]
    },
    {
     "data": {
      "text/plain": [
       "dtype('int32')"
      ]
     },
     "execution_count": 21,
     "metadata": {},
     "output_type": "execute_result"
    }
   ],
   "source": [
    "list_1D = [1,2,3,4,5]\n",
    "array_1D = np.array(list_1D, dtype=np.int32)\n",
    "print (f\"Array 1D: {array_1D}\")\n",
    "\n",
    "\n",
    "array_1D.dtype"
   ]
  },
  {
   "cell_type": "markdown",
   "id": "d6ea51ce",
   "metadata": {},
   "source": [
    "Membuat array dengan np.arange()\n",
    "\n",
    "untuk membuat array yang mempunyai rentang tertentu dan langkah tertentu seperti range( ) di python\n",
    "\n",
    "Sintaks :\n",
    "\n",
    "np.arange (start , stop ,step , dtype = None)"
   ]
  },
  {
   "cell_type": "code",
   "execution_count": 25,
   "id": "da1d1a5e",
   "metadata": {},
   "outputs": [
    {
     "name": "stdout",
     "output_type": "stream",
     "text": [
      "array = [ 0.1  5.1 10.1 15.1 20.1 25.1 30.1 35.1 40.1 45.1]\n"
     ]
    }
   ],
   "source": [
    "array_arange = np.arange(0.1 , stop = 50 , step = 5)\n",
    "\n",
    "print(f\"array = {array_arange}\")"
   ]
  },
  {
   "cell_type": "markdown",
   "id": "3ec18dcc",
   "metadata": {},
   "source": [
    "Membuat array dengan np.zeros() dan np.ones()\n",
    "\n",
    "element-element ya menjadi 0 atau satu \n",
    "\n",
    "sintaks: \n",
    "\n",
    "- np.zeros ( shape , dtype=float)\n",
    "- np.ones ( shape , dtype=float)\n",
    "\n",
    "\n",
    "shape: Dimensi array (tuple atau integer )"
   ]
  },
  {
   "cell_type": "code",
   "execution_count": 4,
   "id": "3f031c08",
   "metadata": {},
   "outputs": [
    {
     "name": "stdout",
     "output_type": "stream",
     "text": [
      "array 1d nol = [0. 0. 0. 0. 0.]\n",
      "array nol 2d = [[0 0 0 0 0 0]\n",
      " [0 0 0 0 0 0]]\n",
      "array nol 3d = [[[0 0 0 0 0]\n",
      "  [0 0 0 0 0]\n",
      "  [0 0 0 0 0]\n",
      "  [0 0 0 0 0]\n",
      "  [0 0 0 0 0]\n",
      "  [0 0 0 0 0]]\n",
      "\n",
      " [[0 0 0 0 0]\n",
      "  [0 0 0 0 0]\n",
      "  [0 0 0 0 0]\n",
      "  [0 0 0 0 0]\n",
      "  [0 0 0 0 0]\n",
      "  [0 0 0 0 0]]\n",
      "\n",
      " [[0 0 0 0 0]\n",
      "  [0 0 0 0 0]\n",
      "  [0 0 0 0 0]\n",
      "  [0 0 0 0 0]\n",
      "  [0 0 0 0 0]\n",
      "  [0 0 0 0 0]]\n",
      "\n",
      " [[0 0 0 0 0]\n",
      "  [0 0 0 0 0]\n",
      "  [0 0 0 0 0]\n",
      "  [0 0 0 0 0]\n",
      "  [0 0 0 0 0]\n",
      "  [0 0 0 0 0]]]\n"
     ]
    }
   ],
   "source": [
    "# membuat array 1D nol\n",
    "\n",
    "array_zeros = np.zeros(5)\n",
    "print(f\"array 1d nol = {array_zeros}\")\n",
    "\n",
    "\n",
    "array_zeros_2d = np.zeros((2,6), dtype=int)\n",
    "print(f\"array nol 2d = {array_zeros_2d}\")\n",
    "\n",
    "array_zeros_3d = np.zeros((4,6,5), dtype=int)\n",
    "print(f\"array nol 3d = {array_zeros_3d}\")"
   ]
  },
  {
   "cell_type": "markdown",
   "id": "acc8f6d4",
   "metadata": {},
   "source": [
    "        Mengatur Dimensi Array dengan atribut .reshape() atau .shape\n",
    "        meratakan array dengan flatten()"
   ]
  },
  {
   "cell_type": "code",
   "execution_count": 8,
   "id": "5bcbd271",
   "metadata": {},
   "outputs": [
    {
     "name": "stdout",
     "output_type": "stream",
     "text": [
      "array asli : [ 0  1  2  3  4  5  6  7  8  9 10 11]\n",
      "array 2d : [[ 0  1  2  3]\n",
      " [ 4  5  6  7]\n",
      " [ 8  9 10 11]]\n",
      "array 3d : [[[ 0  1  2]\n",
      "  [ 3  4  5]]\n",
      "\n",
      " [[ 6  7  8]\n",
      "  [ 9 10 11]]]\n",
      "[[ 0  1]\n",
      " [ 2  3]\n",
      " [ 4  5]\n",
      " [ 6  7]\n",
      " [ 8  9]\n",
      " [10 11]]\n",
      "array 2d jadi 1d : [ 0  1  2  3  4  5  6  7  8  9 10 11]\n"
     ]
    }
   ],
   "source": [
    "array = np.arange(12)\n",
    "print(f\"array asli : {array}\")\n",
    "\n",
    "#mengubah array ke 2D (3x4)\n",
    "\n",
    "array_2d = array.reshape(3,4)\n",
    "print(f\"array 2d : {array_2d}\")\n",
    "\n",
    "\n",
    "array_3d = array.reshape(2,2,3)\n",
    "print(f\"array 3d : {array_3d}\")\n",
    "\n",
    "\n",
    "array.shape = (6,2)\n",
    "print(array)\n",
    "\n",
    "#meratakan array \n",
    "\n",
    "array_flatened = array_2d.flatten()\n",
    "print(f\"array 2d jadi 1d : {array_flatened}\")\n"
   ]
  },
  {
   "cell_type": "markdown",
   "id": "f303bf9d",
   "metadata": {},
   "source": [
    "indexing dan slicing \n",
    "\n",
    "\n",
    "index : mengambil elemen tertentu dari array \n",
    "\n",
    "slicing : mengambil sebagian elemen array berdasarkan format [start:stop:step]\n"
   ]
  },
  {
   "cell_type": "code",
   "execution_count": 40,
   "id": "1e335890",
   "metadata": {},
   "outputs": [
    {
     "name": "stdout",
     "output_type": "stream",
     "text": [
      "element pertama : 10\n",
      "element pertama : 50\n",
      "slicing dari element 2 sampai 3  : [20 30]\n",
      "Element baris pertama, kolom 2 : 12\n",
      "Slicing baris 1, kolom 1 sampai 3: [2 3]\n",
      "Slicing baris 1 dan 2, semua kolom: [[ 1  2  3  4]\n",
      " [ 5  6  7  8]\n",
      " [ 9 10 11 12]]\n",
      "Slicing semua baris,  kolom 1 dan 2 : [[ 1  2]\n",
      " [ 5  6]\n",
      " [ 9 10]]\n"
     ]
    }
   ],
   "source": [
    "array_1d = np.array([10,20,30,40,50])\n",
    "\n",
    "\n",
    "print(f\"element pertama : {array_1d[0]}\")\n",
    "print(f\"element pertama : {array_1d[-1]}\")\n",
    "print(f\"slicing dari element 2 sampai 3  : {array_1d[1:3]}\")\n",
    "\n",
    "array_2d = np.array([[1,2,3,4], [5,6,7,8], [9,10,11,12]])\n",
    "print(f\"Element baris pertama, kolom 2 : {array_2d[2,3]}\")\n",
    "print(f\"Slicing baris 1, kolom 1 sampai 3: {array_2d[0,1:3]}\")\n",
    "print(f\"Slicing baris 1 dan 2, semua kolom: {array_2d[::,:]}\")\n",
    "print(f\"Slicing semua baris,  kolom 1 dan 2 : {array_2d[::,:2]}\")"
   ]
  },
  {
   "cell_type": "markdown",
   "id": "4d20ff94",
   "metadata": {},
   "source": [
    "Mengubah Nilai Element array\n",
    "numpy mendukung pengubahan nilai elemen secara langsung dengan indeks"
   ]
  },
  {
   "cell_type": "code",
   "execution_count": 47,
   "id": "b455991b",
   "metadata": {},
   "outputs": [
    {
     "name": "stdout",
     "output_type": "stream",
     "text": [
      "sebelum array di ubah : [0 1 2 3 4 5]\n",
      "sesudah array di ubah : [ -1   1   2   3   4 100]\n",
      "sesudah array di ubah : [ -1 100 200   3   4 100]\n"
     ]
    }
   ],
   "source": [
    "array = np.arange(6)\n",
    "print(f\"sebelum array di ubah : {array}\")\n",
    "\n",
    "array[0] = -1\n",
    "array[-1] = 100\n",
    "\n",
    "print(f\"sesudah array di ubah : {array}\")\n",
    "\n",
    "array[1:3] = [100,200]\n",
    "print(f\"sesudah array di ubah : {array}\")"
   ]
  },
  {
   "cell_type": "markdown",
   "id": "a3dde2d8",
   "metadata": {},
   "source": [
    "Operasi matk + - * / \n",
    "pada numpy"
   ]
  },
  {
   "cell_type": "code",
   "execution_count": 49,
   "id": "207fa9e5",
   "metadata": {},
   "outputs": [
    {
     "name": "stdout",
     "output_type": "stream",
     "text": [
      "array asli : [0 1 2 3 4]\n",
      "array ditambah 3 : [3 4 5 6 7]\n",
      "array dikurang 2 : [-2 -1  0  1  2]\n",
      "array dikali 2 : [0 2 4 6 8]\n",
      "array dibagi 2 : [0.  0.5 1.  1.5 2. ]\n"
     ]
    }
   ],
   "source": [
    "array = np.arange(5)\n",
    "print(f\"array asli : {array}\")\n",
    "\n",
    "array_add = array + 3 \n",
    "print(f\"array ditambah 3 : {array_add}\")\n",
    "\n",
    "array_sub = array - 2\n",
    "print(f\"array dikurang 2 : {array_sub}\")\n",
    "\n",
    "array_mul = array * 2\n",
    "print(f\"array dikali 2 : {array_mul}\")\n",
    "\n",
    "array_div = array / 2\n",
    "print(f\"array dibagi 2 : {array_div}\")"
   ]
  },
  {
   "cell_type": "markdown",
   "id": "5e032829",
   "metadata": {},
   "source": [
    "atribut array \n",
    "\n",
    "Numpy menyediakan atribut seperti shape dan size memeriksa dimensi dan jumlah element array \n"
   ]
  },
  {
   "cell_type": "code",
   "execution_count": 58,
   "id": "818ad57e",
   "metadata": {},
   "outputs": [
    {
     "name": "stdout",
     "output_type": "stream",
     "text": [
      "array : [[1 2 3]\n",
      " [4 5 6]]\n",
      "shape array : (2, 3)\n",
      "jumlah elemen array : 6\n"
     ]
    }
   ],
   "source": [
    "array = np.array([[1,2,3],[4,5,6]]) \n",
    "print(f\"array : {array}\")\n",
    "\n",
    "array.shape \n",
    "print(f\"shape array : {array.shape}\")\n",
    "\n",
    "array.size \n",
    "print(f\"jumlah elemen array : {array.size}\")"
   ]
  },
  {
   "cell_type": "markdown",
   "id": "e3d2a8a4",
   "metadata": {},
   "source": [
    "Fungsi Statistik \n",
    "mean() sum() min() max()"
   ]
  },
  {
   "cell_type": "code",
   "execution_count": 59,
   "id": "668f1e00",
   "metadata": {},
   "outputs": [
    {
     "name": "stdout",
     "output_type": "stream",
     "text": [
      "array : [1 2 3 4 5]\n",
      "rata rata array : 3.0\n",
      "jumlah array : 15\n",
      "nilai minimum : 1\n",
      "nilai maksimum : 5\n",
      "nilai median : 3.0\n",
      "nilai standar deviasi : 1.4142135623730951\n",
      "nilai variansi : 2.0\n",
      "nilai kuartil : 3.0\n",
      "nilai kuartil : 3.0\n"
     ]
    }
   ],
   "source": [
    "array = np.array([1,2,3,4,5])\n",
    "\n",
    "print(f\"array : {array}\")\n",
    "\n",
    "print(f\"rata rata array : {np.mean(array)}\")\n",
    "print(f\"jumlah array : {np.sum(array)}\")\n",
    "print(f\"nilai minimum : {np.min(array)}\")\n",
    "print(f\"nilai maksimum : {np.max(array)}\")\n",
    "print(f\"nilai median : {np.median(array)}\")\n",
    "print(f\"nilai standar deviasi : {np.std(array)}\")\n",
    "print(f\"nilai variansi : {np.var(array)}\")\n",
    "print(f\"nilai kuartil : {np.percentile(array, 50)}\")\n",
    "print(f\"nilai kuartil : {np.percentile(array, 50)}\")\n"
   ]
  },
  {
   "cell_type": "markdown",
   "id": "cee910ff",
   "metadata": {},
   "source": [
    "# Distribusi probabilitas\n",
    "menggambarkan bagaimana data tersebar numpy menyediakan berbagai fungsi membuat array sesuai distribusi tertentu"
   ]
  },
  {
   "cell_type": "markdown",
   "id": "be16a992",
   "metadata": {},
   "source": [
    "Distribusi Normal \n",
    "memiliki penyebaran data yang simetris dan sering di gunakan dalam statistik\n",
    "\n",
    "sintaks np.random.normal(loc,scale,size)\n",
    "loc: mean (rata-rata) distribusi (default 0)\n",
    "scale: standar deviasi distribusi ( default 1 )\n",
    "size : ukuran array"
   ]
  },
  {
   "cell_type": "code",
   "execution_count": 70,
   "id": "ef0a562d",
   "metadata": {},
   "outputs": [
    {
     "name": "stdout",
     "output_type": "stream",
     "text": [
      "[6.15754914 6.44049156 6.59631311 6.4168066  8.74803235]\n",
      "6.871838552707738\n"
     ]
    }
   ],
   "source": [
    "array_normal = np.random.normal(loc=7,scale=1, size=5)\n",
    "print(array_normal)\n",
    "print(array_normal.mean())"
   ]
  },
  {
   "cell_type": "markdown",
   "id": "447263d4",
   "metadata": {},
   "source": [
    "Distribusi Uniform\n",
    "memiliki probabilitas yang sama untuk semua nilai dalam rentang tertentu \n",
    "\n",
    "sintaks : np.random.uniform(low, high,size)\n",
    "\n",
    "low : batas bawah (default 0 )\n",
    "hight : batas atas (default 1)\n",
    "size ukuran array"
   ]
  },
  {
   "cell_type": "code",
   "execution_count": 80,
   "id": "28454db5",
   "metadata": {},
   "outputs": [
    {
     "name": "stdout",
     "output_type": "stream",
     "text": [
      "[4.4325362  0.11907206 8.55078689 9.08487199 1.96613917]\n",
      "4.830681260632714\n"
     ]
    }
   ],
   "source": [
    "array_uniform = np.random.uniform(low=0, high=10, size=5)\n",
    "print(array_uniform)\n",
    "print(array_uniform.mean())"
   ]
  }
 ],
 "metadata": {
  "kernelspec": {
   "display_name": "Python 3",
   "language": "python",
   "name": "python3"
  },
  "language_info": {
   "codemirror_mode": {
    "name": "ipython",
    "version": 3
   },
   "file_extension": ".py",
   "mimetype": "text/x-python",
   "name": "python",
   "nbconvert_exporter": "python",
   "pygments_lexer": "ipython3",
   "version": "3.13.7"
  }
 },
 "nbformat": 4,
 "nbformat_minor": 5
}
